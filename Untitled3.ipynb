{
  "nbformat": 4,
  "nbformat_minor": 0,
  "metadata": {
    "colab": {
      "provenance": [],
      "authorship_tag": "ABX9TyPTUBg0bRc7NZ7Hs5dZq5rs",
      "include_colab_link": true
    },
    "kernelspec": {
      "name": "python3",
      "display_name": "Python 3"
    },
    "language_info": {
      "name": "python"
    }
  },
  "cells": [
    {
      "cell_type": "markdown",
      "metadata": {
        "id": "view-in-github",
        "colab_type": "text"
      },
      "source": [
        "<a href=\"https://colab.research.google.com/github/liakavalier/Aulas-Python/blob/main/Untitled3.ipynb\" target=\"_parent\"><img src=\"https://colab.research.google.com/assets/colab-badge.svg\" alt=\"Open In Colab\"/></a>"
      ]
    },
    {
      "cell_type": "markdown",
      "source": [
        "#1 AULA ALONE, VOLTA BESTS!!!"
      ],
      "metadata": {
        "id": "rzllijMpXN73"
      }
    },
    {
      "cell_type": "markdown",
      "source": [
        "#Estruturas condicionais: if, elif, else (aula 4)\n",
        "if: se apenas uma condição for verdadeira\n",
        "elif:\n",
        "else:"
      ],
      "metadata": {
        "id": "6e61thJNXiCS"
      }
    },
    {
      "cell_type": "code",
      "source": [
        "numero = int(input(\"digite um numero: \"))\n",
        "if numero > 0:\n",
        "    print(\"este é um numero positivo\")"
      ],
      "metadata": {
        "colab": {
          "base_uri": "https://localhost:8080/"
        },
        "id": "SLfi7VtWcQhS",
        "outputId": "f1a2d93e-0a5d-4d08-8e67-2fb344dad7e4"
      },
      "execution_count": null,
      "outputs": [
        {
          "output_type": "stream",
          "name": "stdout",
          "text": [
            "digite um numero: 1\n",
            "este é um numero positivo\n"
          ]
        }
      ]
    },
    {
      "cell_type": "markdown",
      "source": [
        "#estrutura basica if e else: if se a condição for verdadeira, else é um caminho alternativo se a condição for falsa"
      ],
      "metadata": {
        "id": "nHeaBn2HeUPf"
      }
    },
    {
      "cell_type": "code",
      "source": [
        "numero = int(input(\"digite um numero:\"))\n",
        "if numero >= 0:\n",
        "    print(\"este é um numero positivo\")\n",
        "else:\n",
        "    print(\"este é um numero negativo\")"
      ],
      "metadata": {
        "colab": {
          "base_uri": "https://localhost:8080/"
        },
        "id": "uIYt1OsMcvoY",
        "outputId": "9689c696-dca2-4b94-bf8e-789d1d5217ad"
      },
      "execution_count": null,
      "outputs": [
        {
          "output_type": "stream",
          "name": "stdout",
          "text": [
            "digite um numero:0\n",
            "este é um numero positivo\n"
          ]
        }
      ]
    },
    {
      "cell_type": "markdown",
      "source": [
        "utilizar % (no exercicio abaixo)\n",
        "%: resto da divisão(divisão modular)"
      ],
      "metadata": {
        "id": "x433ciVKhgYx"
      }
    },
    {
      "cell_type": "code",
      "source": [
        "numero = int(input(\"digite um numero:\"))\n",
        "if numero % 2 == 0:\n",
        "  print(\"este é um numero par\")\n",
        "else:\n",
        "  print(\"este é um numero impar\")"
      ],
      "metadata": {
        "colab": {
          "base_uri": "https://localhost:8080/"
        },
        "id": "FfuSrenPfeXY",
        "outputId": "d4dfaada-3b33-4dea-dbc2-de4f84182865"
      },
      "execution_count": null,
      "outputs": [
        {
          "output_type": "stream",
          "name": "stdout",
          "text": [
            "digite um numero:5\n",
            "este é um numero impar\n"
          ]
        }
      ]
    },
    {
      "cell_type": "markdown",
      "source": [
        "#Quando temos várias condições possiveis, usamos elif\n",
        "quando as condições são exclusivas use elif invés de if.\n",
        "\n",
        "    Outra forma de resolver: 0<= idade <= 12"
      ],
      "metadata": {
        "id": "JVkkjbZjjxOE"
      }
    },
    {
      "cell_type": "code",
      "source": [
        "idade = int(input(\"informe qual a sua idade:\"))\n",
        "if idade >= 0 and idade <= 12:\n",
        "  print(\"você é uma criança\")\n",
        "elif idade >= 13 and idade <= 17:\n",
        "  print(\"você é um adolescente\")\n",
        "elif idade >= 18 and idade <= 59:\n",
        "  print(\"você é um adulto\")\n",
        "elif idade >= 60:\n",
        "  print(\"você é um idoso\")\n",
        "else:\n",
        "  print(\"idade inválida\")"
      ],
      "metadata": {
        "colab": {
          "base_uri": "https://localhost:8080/"
        },
        "outputId": "28c4a7b2-64df-4654-e1e8-51a27ba3167c",
        "id": "qWAqs5JHtFyM"
      },
      "execution_count": null,
      "outputs": [
        {
          "output_type": "stream",
          "name": "stdout",
          "text": [
            "informe qual a sua idade:-2\n",
            "idade inválida\n"
          ]
        }
      ]
    },
    {
      "cell_type": "markdown",
      "source": [
        "refatoração: diminuir o tamanho do código, limpar\n",
        "in: no/na (junta as alternativas)\n",
        "if cor in [\"azul\", \"vermelho\"]"
      ],
      "metadata": {
        "id": "WQW147YrtAWU"
      }
    },
    {
      "cell_type": "code",
      "source": [
        "dia = input(\"informe o dia da semana: \")\n",
        "if dia == \"sabado\" or dia == \"domingo\":\n",
        "  print(\"fim de semana\")\n",
        "elif dia == \"segunda\" or dia == \"terca\" or dia == \"quarta\" or dia == \"quinta\" or dia == \"sexta\":\n",
        "  print(\"dia útil\")\n",
        "else:\n",
        "  print(\"dia inválido\")"
      ],
      "metadata": {
        "colab": {
          "base_uri": "https://localhost:8080/"
        },
        "id": "S0ql85Mqu70I",
        "outputId": "4f9164cb-ff46-4048-bb89-bf9dad6d4b36"
      },
      "execution_count": null,
      "outputs": [
        {
          "output_type": "stream",
          "name": "stdout",
          "text": [
            "qual o dia da semana: segunda\n",
            "dia útil\n"
          ]
        }
      ]
    },
    {
      "cell_type": "code",
      "source": [
        "dia = input(\"informe o dia da semana: \")\n",
        "if dia in [\"sabado\", \"domingo\"]:\n",
        "  print(\"fim de semana\")\n",
        "elif dia == \"segunda\" or dia == \"terca\" or dia == \"quarta\" or dia == \"quinta\" or dia == \"sexta\":\n",
        "  print(\"dia útil\")\n",
        "else:\n",
        "  print(\"dia inválido\")"
      ],
      "metadata": {
        "id": "4sac2Th_xrv9"
      },
      "execution_count": null,
      "outputs": []
    },
    {
      "cell_type": "markdown",
      "source": [
        "lower: converte para letra minuscula. ex: se alguém escrever Segunda com S maiusculo, a resposta vai dar dia util pois vai ser convertida para minuscula"
      ],
      "metadata": {
        "id": "J-xmT-fF1EOh"
      }
    },
    {
      "cell_type": "code",
      "source": [
        "dia = input(\"Informe o dia da semana: \").lower()\n",
        "if dia in [\"sábado\", \"domingo\"]:\n",
        "  print(\"Fim de semana\")\n",
        "elif dia in [\"segunda\", \"terça\", \"quarta\", \"quinta\", \"sexta\"]:\n",
        "  print(\"Dia útil\")\n",
        "else:\n",
        "  print(\"Dia inválido\")"
      ],
      "metadata": {
        "colab": {
          "base_uri": "https://localhost:8080/"
        },
        "id": "07CnBFXZx36F",
        "outputId": "6a4c764c-49e9-4fc4-8649-e299799948a2"
      },
      "execution_count": null,
      "outputs": [
        {
          "output_type": "stream",
          "name": "stdout",
          "text": [
            "Informe o dia da semana: terça\n",
            "Dia útil\n"
          ]
        }
      ]
    }
  ]
}