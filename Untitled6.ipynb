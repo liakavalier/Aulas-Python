{
  "nbformat": 4,
  "nbformat_minor": 0,
  "metadata": {
    "colab": {
      "provenance": [],
      "authorship_tag": "ABX9TyMJHc8Y5S4VQNN2uJkXqnwM",
      "include_colab_link": true
    },
    "kernelspec": {
      "name": "python3",
      "display_name": "Python 3"
    },
    "language_info": {
      "name": "python"
    }
  },
  "cells": [
    {
      "cell_type": "markdown",
      "metadata": {
        "id": "view-in-github",
        "colab_type": "text"
      },
      "source": [
        "<a href=\"https://colab.research.google.com/github/liakavalier/Aulas-Python/blob/main/Untitled6.ipynb\" target=\"_parent\"><img src=\"https://colab.research.google.com/assets/colab-badge.svg\" alt=\"Open In Colab\"/></a>"
      ]
    },
    {
      "cell_type": "markdown",
      "source": [
        "função em python\n",
        "* def na frente\n",
        "* é um conjunto de comandos que pode ser reutilizado e executado como uma unidade.\n",
        "* pode ou não retomar o resultado"
      ],
      "metadata": {
        "id": "SCn2pOC5oSz8"
      }
    },
    {
      "cell_type": "code",
      "source": [
        "numero1 = 5\n",
        "numero2 = 7\n",
        "def soma(num1,num2):\n",
        " soma = num1 + num2\n",
        " return soma\n",
        "resultado = soma(numero1,numero2)\n",
        "print(resultado)"
      ],
      "metadata": {
        "colab": {
          "base_uri": "https://localhost:8080/"
        },
        "id": "fSD4Cw3Mo4BJ",
        "outputId": "c6fdd40a-105b-489a-b3e2-aa7768e43396"
      },
      "execution_count": null,
      "outputs": [
        {
          "output_type": "stream",
          "name": "stdout",
          "text": [
            "12\n"
          ]
        }
      ]
    },
    {
      "cell_type": "code",
      "execution_count": null,
      "metadata": {
        "colab": {
          "base_uri": "https://localhost:8080/"
        },
        "id": "9MNOe2EWn4lL",
        "outputId": "1a64e571-97d5-41cd-bed2-7f1e740fd66c"
      },
      "outputs": [
        {
          "output_type": "stream",
          "name": "stdout",
          "text": [
            "ola, bem vindo ao curso de python\n"
          ]
        }
      ],
      "source": [
        "def saudacao():\n",
        "  print(\"ola, bem vindo ao curso de python\")\n",
        "\n",
        "#chamando a função\n",
        "saudacao()"
      ]
    },
    {
      "cell_type": "markdown",
      "source": [
        "* parâmetros: variaveis que a funcao recebe na definição\n",
        "* ex; def add num1 e num1\n",
        "* num1 e num2 sao parametros\n",
        "* argumentos: valores passados quando a função é chamada\n",
        "* ex; sum1 = add(5,4)\n",
        "* 5 e 4 são argumentos"
      ],
      "metadata": {
        "id": "zRC2Gu-xpjXV"
      }
    },
    {
      "cell_type": "code",
      "source": [
        "def saudacao(nome):\n",
        "  print(f\"Olá, {nome}!\")\n",
        "# passando argumento\n",
        "saudacao(\"Eliana\")\n",
        "saudacao(\"Keylla\")"
      ],
      "metadata": {
        "colab": {
          "base_uri": "https://localhost:8080/"
        },
        "id": "UYwKA6yMqZ_U",
        "outputId": "ef353d73-08f9-488b-9318-a2feb2c1b99b"
      },
      "execution_count": null,
      "outputs": [
        {
          "output_type": "stream",
          "name": "stdout",
          "text": [
            "Olá, Eliana!\n",
            "Olá, Keylla!\n"
          ]
        }
      ]
    },
    {
      "cell_type": "code",
      "source": [
        "def soma(a, b):\n",
        "  print(f\"A soma é: {a + b}\")\n",
        "soma(5, 10)\n",
        "soma(3, 7)"
      ],
      "metadata": {
        "colab": {
          "base_uri": "https://localhost:8080/"
        },
        "id": "sI0DRIOstC16",
        "outputId": "8f6bdb9b-eeed-41db-adbd-bafbd3eac040"
      },
      "execution_count": null,
      "outputs": [
        {
          "output_type": "stream",
          "name": "stdout",
          "text": [
            "A soma é: 15\n",
            "A soma é: 10\n"
          ]
        }
      ]
    },
    {
      "cell_type": "code",
      "source": [
        "def multiplica(a, b):\n",
        " print(f\"A multiplicação é: {a * b}\")\n",
        "multiplica(5, 10)\n",
        "multiplica(3, 7)"
      ],
      "metadata": {
        "colab": {
          "base_uri": "https://localhost:8080/"
        },
        "id": "NWCDqUz0vIK7",
        "outputId": "4974f156-df0e-42cf-8f93-d217efe7a5cc"
      },
      "execution_count": null,
      "outputs": [
        {
          "output_type": "stream",
          "name": "stdout",
          "text": [
            "A multiplicação é: 50\n",
            "A multiplicação é: 21\n"
          ]
        }
      ]
    },
    {
      "cell_type": "markdown",
      "source": [
        "* return retoma o resultado para usar em outras partes do código\n",
        "* print apenas exibe na tela\n",
        "* return entrega o valor de volta para ser usado no código\n",
        "* HENRIQUE BASTOS WWID"
      ],
      "metadata": {
        "id": "MjAFvuHux_qT"
      }
    },
    {
      "cell_type": "code",
      "source": [
        "def calcula_media(n1, n2, n3):\n",
        " average = (n1 + n2 + n3) / 3\n",
        " print(f\"A média é: {average}\")\n",
        " return average\n",
        "# passing argument\n",
        "n1 = int(input(\"Digite a nota 1: \"))\n",
        "n2 = int(input(\"Digite a nota 2: \"))\n",
        "n3 = int(input(\"Digite a nota 3: \"))\n",
        "media = calcula_media(n1, n2, n3)\n",
        "if media < 5:\n",
        "  print(\"reprovado\")\n",
        "else:\n",
        " print(\"aprovado\")"
      ],
      "metadata": {
        "id": "ZJTLroWjyNbV"
      },
      "execution_count": null,
      "outputs": []
    },
    {
      "cell_type": "markdown",
      "source": [
        "* variavel local = criada dentro da função\n",
        "* variavel global = criada fora da função"
      ],
      "metadata": {
        "id": "0A_7_fbX616t"
      }
    },
    {
      "cell_type": "code",
      "source": [
        "\n",
        "\n",
        "\n"
      ],
      "metadata": {
        "id": "zENB-NZg6HNH"
      },
      "execution_count": null,
      "outputs": []
    },
    {
      "cell_type": "code",
      "source": [
        "cvvcvc"
      ],
      "metadata": {
        "id": "m6S1FTyJBdqK"
      },
      "execution_count": null,
      "outputs": []
    },
    {
      "cell_type": "markdown",
      "source": [],
      "metadata": {
        "id": "0X1Do_BuBddx"
      }
    }
  ]
}