{
  "nbformat": 4,
  "nbformat_minor": 0,
  "metadata": {
    "colab": {
      "provenance": [],
      "authorship_tag": "ABX9TyN+8jiWRGXycYgkbglrIKt6",
      "include_colab_link": true
    },
    "kernelspec": {
      "name": "python3",
      "display_name": "Python 3"
    },
    "language_info": {
      "name": "python"
    }
  },
  "cells": [
    {
      "cell_type": "markdown",
      "metadata": {
        "id": "view-in-github",
        "colab_type": "text"
      },
      "source": [
        "<a href=\"https://colab.research.google.com/github/liakavalier/Aulas-Python/blob/main/Untitled2.ipynb\" target=\"_parent\"><img src=\"https://colab.research.google.com/assets/colab-badge.svg\" alt=\"Open In Colab\"/></a>"
      ]
    },
    {
      "cell_type": "markdown",
      "source": [
        "#Operadores aritmeticos"
      ],
      "metadata": {
        "id": "tdOEfmUzvriQ"
      }
    },
    {
      "cell_type": "code",
      "execution_count": null,
      "metadata": {
        "colab": {
          "base_uri": "https://localhost:8080/"
        },
        "id": "EkmNdowRvoTs",
        "outputId": "2abb7ea0-d01c-43e4-8ad2-50cc16de3824"
      },
      "outputs": [
        {
          "output_type": "stream",
          "name": "stdout",
          "text": [
            "soma:a 2\n",
            "subtracao: 8\n",
            "multiplicacao: 20\n",
            "divisao: 5.0\n",
            "divisao inteira: 5\n",
            "resto: 0\n",
            "exponenciacao: 100\n"
          ]
        }
      ],
      "source": [
        "a = 10\n",
        "b = 2\n",
        "print(\"soma:a\", + b)\n",
        "print(\"subtracao:\", a - b)\n",
        "print(\"multiplicacao:\", a * b)\n",
        "print(\"divisao:\", a / b)\n",
        "print(\"divisao inteira:\", a // b)\n",
        "print(\"resto:\", a % b)\n",
        "print(\"exponenciacao:\", a ** b)\n"
      ]
    },
    {
      "cell_type": "markdown",
      "source": [
        "#Desafio\n",
        "\n"
      ],
      "metadata": {
        "id": "XurW6rXe2ddW"
      }
    },
    {
      "cell_type": "code",
      "source": [
        "a = int(input(\"digite um numero: \"))\n",
        "b = int(input(\"digite outro numero: \"))\n",
        "print(\"soma:\", a + b)\n",
        "print(\"multiplicacao:\", a * b)\n",
        "print(\"divisao:\", a / b)\n",
        "print(\"resto:\", a % b)\n"
      ],
      "metadata": {
        "colab": {
          "base_uri": "https://localhost:8080/"
        },
        "id": "fDYoU6T82h1_",
        "outputId": "4d65ffea-065d-4d94-d2f0-bce0f163ec30"
      },
      "execution_count": null,
      "outputs": [
        {
          "output_type": "stream",
          "name": "stdout",
          "text": [
            "digite um numero: 5\n",
            "digite outro numero: 5\n",
            "soma: 10\n",
            "multiplicacao: 25\n",
            "divisao: 1.0\n",
            "resto: 0\n"
          ]
        }
      ]
    },
    {
      "cell_type": "markdown",
      "source": [
        "#Operadores relacionais\n",
        "\n",
        "\n"
      ],
      "metadata": {
        "id": "7qkMv7g24fQv"
      }
    },
    {
      "cell_type": "code",
      "source": [
        "a = 10\n",
        "b = 3\n",
        "print(\"a == b\", a == b)\n",
        "print(\"a ! = b\", a != b)\n",
        "print(\"a > b\", a > b)\n",
        "print(\"a < b\", a < b)\n",
        "print(\"a >= b\", a >= b)\n",
        "print(\"a <= b\", a <= b)"
      ],
      "metadata": {
        "colab": {
          "base_uri": "https://localhost:8080/"
        },
        "id": "7C4NahjM4jR-",
        "outputId": "386a0bdf-2190-4799-b84d-c46a1e31559a"
      },
      "execution_count": null,
      "outputs": [
        {
          "output_type": "stream",
          "name": "stdout",
          "text": [
            "a == b False\n",
            "a != b True\n",
            "a > b True\n",
            "a < b False\n",
            "a >= b True\n",
            "a <= b False\n"
          ]
        }
      ]
    },
    {
      "cell_type": "markdown",
      "source": [
        "#exercicio 3 sobre operadores logicos\n",
        "if:se, elif:senão, else: então"
      ],
      "metadata": {
        "id": "EtA6U0276doH"
      }
    },
    {
      "cell_type": "code",
      "source": [
        "idade = int(input(\"digite sua idade: \"))\n",
        "if idade < 18:\n",
        "    print(\"voce é menor de idade\")\n",
        "elif idade >= 18 and idade <=59:\n",
        "    print(\"voce é adulto\")\n",
        "else:\n",
        "    print(\"voce é idoso\")\n"
      ],
      "metadata": {
        "colab": {
          "base_uri": "https://localhost:8080/"
        },
        "id": "LbZwh44o6yvx",
        "outputId": "280120a7-89d0-40e4-b782-6e49c3bf795f"
      },
      "execution_count": null,
      "outputs": [
        {
          "output_type": "stream",
          "name": "stdout",
          "text": [
            "digite sua idade: 78\n",
            "voce é idoso\n"
          ]
        }
      ]
    },
    {
      "cell_type": "markdown",
      "source": [
        "#combinação de expressões\n",
        "and: verdadeiro se ambos forem verdadeiros\n",
        ", or: verdade se ao menos 1 afirmação for verdadeira, not: nega a afirmação"
      ],
      "metadata": {
        "id": "hSf2US4qCLFB"
      }
    },
    {
      "cell_type": "markdown",
      "source": [
        "#operadores lógicos"
      ],
      "metadata": {
        "id": "xNxfT73eEKQc"
      }
    },
    {
      "cell_type": "code",
      "source": [
        "nota = float(input(\"digite sua nota: \"))\n",
        "frequencia = float(input(\"digite sua frequencia: \"))\n",
        "if nota >= 7 and frequencia >= 75:\n",
        "    print(\"Parábens, você foi aprovado!\")\n",
        "else:\n",
        "    print(\"Infelizmente, você foi reprovado!\")"
      ],
      "metadata": {
        "colab": {
          "base_uri": "https://localhost:8080/"
        },
        "id": "MTAdD9KdCTfW",
        "outputId": "fc4d392f-8839-4f75-d2e3-cccf0ca5039d"
      },
      "execution_count": null,
      "outputs": [
        {
          "output_type": "stream",
          "name": "stdout",
          "text": [
            "digite sua nota: 88\n",
            "digite sua frequencia: 96\n",
            "Parábens, você foi aprovado!\n"
          ]
        }
      ]
    },
    {
      "cell_type": "markdown",
      "source": [
        "#Ordem da precedencia\n",
        "()\n",
        "...\n"
      ],
      "metadata": {
        "id": "BInzmVml-kPg"
      }
    }
  ]
}